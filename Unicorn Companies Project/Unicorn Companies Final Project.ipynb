{
 "cells": [
  {
   "cell_type": "code",
   "execution_count": 1,
   "id": "c867aeee",
   "metadata": {
    "_cell_guid": "b1076dfc-b9ad-4769-8c92-a6c4dae69d19",
    "_uuid": "8f2839f25d086af736a60e9eeb907d3b93b6e0e5",
    "execution": {
     "iopub.execute_input": "2022-03-19T17:22:15.985685Z",
     "iopub.status.busy": "2022-03-19T17:22:15.984811Z",
     "iopub.status.idle": "2022-03-19T17:22:17.241698Z",
     "shell.execute_reply": "2022-03-19T17:22:17.240772Z",
     "shell.execute_reply.started": "2022-03-19T16:44:02.459054Z"
    },
    "papermill": {
     "duration": 1.325057,
     "end_time": "2022-03-19T17:22:17.241858",
     "exception": false,
     "start_time": "2022-03-19T17:22:15.916801",
     "status": "completed"
    },
    "tags": []
   },
   "outputs": [],
   "source": [
    "import numpy as np # linear algebra\n",
    "import pandas as pd # data processing, CSV file I/O (e.g. pd.read_csv)\n",
    "import seaborn as sns\n",
    "import matplotlib.pyplot as plt\n",
    "%matplotlib inline\n",
    "import plotly.graph_objects as go\n",
    "import plotly.colors as pc\n",
    "from plotly.subplots import make_subplots"
   ]
  },
  {
   "cell_type": "markdown",
   "id": "77105042",
   "metadata": {
    "papermill": {
     "duration": 0.039016,
     "end_time": "2022-03-19T17:22:17.321309",
     "exception": false,
     "start_time": "2022-03-19T17:22:17.282293",
     "status": "completed"
    },
    "tags": []
   },
   "source": [
    "# Data Preprocessing"
   ]
  },
  {
   "cell_type": "code",
   "execution_count": 2,
   "id": "91615689",
   "metadata": {
    "execution": {
     "iopub.execute_input": "2022-03-19T17:22:17.403745Z",
     "iopub.status.busy": "2022-03-19T17:22:17.403204Z",
     "iopub.status.idle": "2022-03-19T17:22:17.448222Z",
     "shell.execute_reply": "2022-03-19T17:22:17.448646Z",
     "shell.execute_reply.started": "2022-03-19T16:44:02.480691Z"
    },
    "papermill": {
     "duration": 0.089563,
     "end_time": "2022-03-19T17:22:17.448806",
     "exception": false,
     "start_time": "2022-03-19T17:22:17.359243",
     "status": "completed"
    },
    "tags": []
   },
   "outputs": [
    {
     "data": {
      "text/html": [
       "<div>\n",
       "<style scoped>\n",
       "    .dataframe tbody tr th:only-of-type {\n",
       "        vertical-align: middle;\n",
       "    }\n",
       "\n",
       "    .dataframe tbody tr th {\n",
       "        vertical-align: top;\n",
       "    }\n",
       "\n",
       "    .dataframe thead th {\n",
       "        text-align: right;\n",
       "    }\n",
       "</style>\n",
       "<table border=\"1\" class=\"dataframe\">\n",
       "  <thead>\n",
       "    <tr style=\"text-align: right;\">\n",
       "      <th></th>\n",
       "      <th>Company</th>\n",
       "      <th>Valuation ($B)</th>\n",
       "      <th>Date Joined</th>\n",
       "      <th>Country</th>\n",
       "      <th>City</th>\n",
       "      <th>Industry</th>\n",
       "      <th>Select Inverstors</th>\n",
       "      <th>Founded Year</th>\n",
       "      <th>Total Raised</th>\n",
       "      <th>Financial Stage</th>\n",
       "      <th>Investors Count</th>\n",
       "      <th>Deal Terms</th>\n",
       "      <th>Portfolio Exits</th>\n",
       "    </tr>\n",
       "  </thead>\n",
       "  <tbody>\n",
       "    <tr>\n",
       "      <th>0</th>\n",
       "      <td>Bytedance</td>\n",
       "      <td>$140</td>\n",
       "      <td>4/7/2017</td>\n",
       "      <td>China</td>\n",
       "      <td>Beijing</td>\n",
       "      <td>Artificial intelligence</td>\n",
       "      <td>Sequoia Capital China, SIG Asia Investments, S...</td>\n",
       "      <td>2012</td>\n",
       "      <td>$7.44B</td>\n",
       "      <td>IPO</td>\n",
       "      <td>28</td>\n",
       "      <td>8</td>\n",
       "      <td>5</td>\n",
       "    </tr>\n",
       "    <tr>\n",
       "      <th>1</th>\n",
       "      <td>SpaceX</td>\n",
       "      <td>$100.3</td>\n",
       "      <td>12/1/2012</td>\n",
       "      <td>United States</td>\n",
       "      <td>Hawthorne</td>\n",
       "      <td>Other</td>\n",
       "      <td>Founders Fund, Draper Fisher Jurvetson, Rothen...</td>\n",
       "      <td>2002</td>\n",
       "      <td>$6.874B</td>\n",
       "      <td>None</td>\n",
       "      <td>29</td>\n",
       "      <td>12</td>\n",
       "      <td>None</td>\n",
       "    </tr>\n",
       "    <tr>\n",
       "      <th>2</th>\n",
       "      <td>Stripe</td>\n",
       "      <td>$95</td>\n",
       "      <td>1/23/2014</td>\n",
       "      <td>United States</td>\n",
       "      <td>San Francisco</td>\n",
       "      <td>Fintech</td>\n",
       "      <td>Khosla Ventures, LowercaseCapital, capitalG</td>\n",
       "      <td>2010</td>\n",
       "      <td>$2.901B</td>\n",
       "      <td>Asset</td>\n",
       "      <td>39</td>\n",
       "      <td>12</td>\n",
       "      <td>1</td>\n",
       "    </tr>\n",
       "    <tr>\n",
       "      <th>3</th>\n",
       "      <td>Klarna</td>\n",
       "      <td>$45.6</td>\n",
       "      <td>12/12/2011</td>\n",
       "      <td>Sweden</td>\n",
       "      <td>Stockholm</td>\n",
       "      <td>Fintech</td>\n",
       "      <td>Institutional Venture Partners, Sequoia Capita...</td>\n",
       "      <td>2005</td>\n",
       "      <td>$3.472B</td>\n",
       "      <td>Acquired</td>\n",
       "      <td>56</td>\n",
       "      <td>13</td>\n",
       "      <td>1</td>\n",
       "    </tr>\n",
       "    <tr>\n",
       "      <th>4</th>\n",
       "      <td>Epic Games</td>\n",
       "      <td>$42</td>\n",
       "      <td>10/26/2018</td>\n",
       "      <td>United States</td>\n",
       "      <td>Cary</td>\n",
       "      <td>Other</td>\n",
       "      <td>Tencent Holdings, KKR, Smash Ventures</td>\n",
       "      <td>1991</td>\n",
       "      <td>$4.377B</td>\n",
       "      <td>Acquired</td>\n",
       "      <td>25</td>\n",
       "      <td>5</td>\n",
       "      <td>2</td>\n",
       "    </tr>\n",
       "  </tbody>\n",
       "</table>\n",
       "</div>"
      ],
      "text/plain": [
       "      Company Valuation ($B) Date Joined        Country           City  \\\n",
       "0   Bytedance           $140    4/7/2017          China        Beijing   \n",
       "1      SpaceX         $100.3   12/1/2012  United States      Hawthorne   \n",
       "2      Stripe            $95   1/23/2014  United States  San Francisco   \n",
       "3      Klarna          $45.6  12/12/2011         Sweden      Stockholm   \n",
       "4  Epic Games            $42  10/26/2018  United States           Cary   \n",
       "\n",
       "                  Industry                                  Select Inverstors  \\\n",
       "0  Artificial intelligence  Sequoia Capital China, SIG Asia Investments, S...   \n",
       "1                    Other  Founders Fund, Draper Fisher Jurvetson, Rothen...   \n",
       "2                  Fintech        Khosla Ventures, LowercaseCapital, capitalG   \n",
       "3                  Fintech  Institutional Venture Partners, Sequoia Capita...   \n",
       "4                    Other              Tencent Holdings, KKR, Smash Ventures   \n",
       "\n",
       "  Founded Year Total Raised Financial Stage Investors Count Deal Terms  \\\n",
       "0         2012       $7.44B             IPO              28          8   \n",
       "1         2002      $6.874B            None              29         12   \n",
       "2         2010      $2.901B           Asset              39         12   \n",
       "3         2005      $3.472B        Acquired              56         13   \n",
       "4         1991      $4.377B        Acquired              25          5   \n",
       "\n",
       "  Portfolio Exits  \n",
       "0               5  \n",
       "1            None  \n",
       "2               1  \n",
       "3               1  \n",
       "4               2  "
      ]
     },
     "execution_count": 2,
     "metadata": {},
     "output_type": "execute_result"
    }
   ],
   "source": [
    "companies = pd.read_csv(\"C:\\\\Users\\\\hp\\\\Downloads\\\\Unicorn_Companies_new.csv\")\n",
    "companies.head()"
   ]
  },
  {
   "cell_type": "code",
   "execution_count": 3,
   "id": "6456b07d",
   "metadata": {
    "execution": {
     "iopub.execute_input": "2022-03-19T17:22:17.529324Z",
     "iopub.status.busy": "2022-03-19T17:22:17.528655Z",
     "iopub.status.idle": "2022-03-19T17:22:17.554162Z",
     "shell.execute_reply": "2022-03-19T17:22:17.554701Z",
     "shell.execute_reply.started": "2022-03-19T16:44:02.512561Z"
    },
    "papermill": {
     "duration": 0.066928,
     "end_time": "2022-03-19T17:22:17.554847",
     "exception": false,
     "start_time": "2022-03-19T17:22:17.487919",
     "status": "completed"
    },
    "tags": []
   },
   "outputs": [
    {
     "name": "stdout",
     "output_type": "stream",
     "text": [
      "<class 'pandas.core.frame.DataFrame'>\n",
      "RangeIndex: 1037 entries, 0 to 1036\n",
      "Data columns (total 13 columns):\n",
      " #   Column             Non-Null Count  Dtype \n",
      "---  ------             --------------  ----- \n",
      " 0   Company            1037 non-null   object\n",
      " 1   Valuation ($B)     1037 non-null   object\n",
      " 2   Date Joined        1037 non-null   object\n",
      " 3   Country            1037 non-null   object\n",
      " 4   City               1037 non-null   object\n",
      " 5   Industry           1037 non-null   object\n",
      " 6   Select Inverstors  1037 non-null   object\n",
      " 7   Founded Year       1037 non-null   object\n",
      " 8   Total Raised       1037 non-null   object\n",
      " 9   Financial Stage    1037 non-null   object\n",
      " 10  Investors Count    1037 non-null   object\n",
      " 11  Deal Terms         1037 non-null   object\n",
      " 12  Portfolio Exits    1037 non-null   object\n",
      "dtypes: object(13)\n",
      "memory usage: 105.4+ KB\n"
     ]
    }
   ],
   "source": [
    "companies.info()"
   ]
  },
  {
   "cell_type": "code",
   "execution_count": null,
   "id": "c55c830c",
   "metadata": {},
   "outputs": [],
   "source": [
    "# Type Casting the columns to their appropriate datatypes"
   ]
  },
  {
   "cell_type": "code",
   "execution_count": 4,
   "id": "aa75cbe6",
   "metadata": {
    "execution": {
     "iopub.execute_input": "2022-03-19T17:22:17.715325Z",
     "iopub.status.busy": "2022-03-19T17:22:17.714793Z",
     "iopub.status.idle": "2022-03-19T17:22:17.721428Z",
     "shell.execute_reply": "2022-03-19T17:22:17.721952Z",
     "shell.execute_reply.started": "2022-03-19T16:44:02.531333Z"
    },
    "papermill": {
     "duration": 0.049617,
     "end_time": "2022-03-19T17:22:17.722129",
     "exception": false,
     "start_time": "2022-03-19T17:22:17.672512",
     "status": "completed"
    },
    "tags": []
   },
   "outputs": [
    {
     "name": "stderr",
     "output_type": "stream",
     "text": [
      "<ipython-input-4-3d0dd5aeb5f1>:1: FutureWarning: The default value of regex will change from True to False in a future version. In addition, single character regular expressions will*not* be treated as literal strings when regex=True.\n",
      "  companies['Valuation ($B)']=companies['Valuation ($B)'].str.replace('$','').astype('float64')\n"
     ]
    }
   ],
   "source": [
    "companies['Valuation ($B)']=companies['Valuation ($B)'].str.replace('$','').astype('float64')"
   ]
  },
  {
   "cell_type": "code",
   "execution_count": 6,
   "id": "ce83fda7",
   "metadata": {
    "execution": {
     "iopub.execute_input": "2022-03-19T17:22:18.137357Z",
     "iopub.status.busy": "2022-03-19T17:22:18.133772Z",
     "iopub.status.idle": "2022-03-19T17:22:18.142538Z",
     "shell.execute_reply": "2022-03-19T17:22:18.142134Z",
     "shell.execute_reply.started": "2022-03-19T16:44:02.625200Z"
    },
    "papermill": {
     "duration": 0.052771,
     "end_time": "2022-03-19T17:22:18.142686",
     "exception": false,
     "start_time": "2022-03-19T17:22:18.089915",
     "status": "completed"
    },
    "tags": []
   },
   "outputs": [
    {
     "name": "stdout",
     "output_type": "stream",
     "text": [
      "Unique values in Founded year:  ['2012' '2002' '2010' '2005' '1991' '2013' '2015' '2018' '1995' '2008'\n",
      " '2011' '2006' '2016' '2017' '2009' '2003' '1998' '2014' 'None' '2001'\n",
      " '2007' '2019' '1996' '1992' '2004' '2020' '1999' '1994' '2000' '1919'\n",
      " '2021' '1973' '1979' '1984' '1990' '1997' '1993']\n"
     ]
    }
   ],
   "source": [
    "print('Unique values in Founded year: ',companies['Founded Year'].unique())\n",
    "missing_founded_yr_companies=companies[companies['Founded Year']=='None'].Company.to_list()\n",
    "dic_missing_value_company=dict.fromkeys(missing_founded_yr_companies)"
   ]
  },
  {
   "cell_type": "markdown",
   "id": "11936827",
   "metadata": {
    "papermill": {
     "duration": 0.038144,
     "end_time": "2022-03-19T17:22:18.219882",
     "exception": false,
     "start_time": "2022-03-19T17:22:18.181738",
     "status": "completed"
    },
    "tags": []
   },
   "source": [
    "When I tried converting the 'Founded Year' to integer, I found my rows assigned to 'None' which can be checked as shown. Before, we convert this variable to int, we will have to handle None type values of this variable. \n",
    "\n",
    "I created a list of comapnies with missing values and then converted it to dictionary. I manually filled these missing values from internet as number of missing values was not too high, around 24 in total. "
   ]
  },
  {
   "cell_type": "code",
   "execution_count": 7,
   "id": "b58d0a90",
   "metadata": {
    "execution": {
     "iopub.execute_input": "2022-03-19T17:22:17.883993Z",
     "iopub.status.busy": "2022-03-19T17:22:17.883455Z",
     "iopub.status.idle": "2022-03-19T17:22:17.974138Z",
     "shell.execute_reply": "2022-03-19T17:22:17.974565Z",
     "shell.execute_reply.started": "2022-03-19T16:44:02.542835Z"
    },
    "papermill": {
     "duration": 0.133086,
     "end_time": "2022-03-19T17:22:17.974733",
     "exception": false,
     "start_time": "2022-03-19T17:22:17.841647",
     "status": "completed"
    },
    "tags": []
   },
   "outputs": [],
   "source": [
    "companies['Date Joined'] =  pd.to_datetime(companies['Date Joined'])\n",
    "companies['Year Joined'] =companies['Date Joined'].dt.year"
   ]
  },
  {
   "cell_type": "code",
   "execution_count": 10,
   "id": "1086e78c",
   "metadata": {
    "execution": {
     "iopub.execute_input": "2022-03-19T17:22:18.305992Z",
     "iopub.status.busy": "2022-03-19T17:22:18.305259Z",
     "iopub.status.idle": "2022-03-19T17:22:18.329297Z",
     "shell.execute_reply": "2022-03-19T17:22:18.329674Z",
     "shell.execute_reply.started": "2022-03-19T16:44:02.635771Z"
    },
    "papermill": {
     "duration": 0.071529,
     "end_time": "2022-03-19T17:22:18.329824",
     "exception": false,
     "start_time": "2022-03-19T17:22:18.258295",
     "status": "completed"
    },
    "tags": []
   },
   "outputs": [],
   "source": [
    "dic_missing_value_company={'Weilong': '1999',\n",
    " 'Hopin': '2019',\n",
    " 'Argo AI': '2016',\n",
    " 'Ola Cabs': '2010',\n",
    " 'C6 Bank': '2018',\n",
    " 'Chipone': '2008',\n",
    " 'SSENSE': '2003',\n",
    " 'CRED': '2018',\n",
    " 'Zapier': '2011',\n",
    " 'Clubhouse': '2020',\n",
    " 'Paxos': '2012',\n",
    " 'Tubatu.com': '2008',\n",
    " 'Netlify': '2014',\n",
    " 'eDaili': '2015',\n",
    " 'Harness': '2016',\n",
    " 'Wave': '2009',\n",
    " 'Zhubajie': '2006',\n",
    " 'Carzone': '1998',\n",
    " 'Changingedu': '2014',\n",
    " 'Uplight': '2019',\n",
    " 'Coda': '2014',\n",
    " 'Veepee': '2001',\n",
    " 'You & Mr Jones': '2015',\n",
    " 'WTOIP': '2013',\n",
    " 'Fair': '2018',\n",
    " 'Pilot.com': '2016',\n",
    " 'Elemy': '2020',\n",
    " 'Qingting FM': '2011',\n",
    " '56PINGTAI': '2013',\n",
    " 'JimuBox': '2012',\n",
    " 'Kuaigou Dache': '2014',\n",
    " 'Numbrs': '2012',\n",
    " 'Socar': '1992',\n",
    " 'Hyperchain': '2016',\n",
    " 'SaltPay': '2019',\n",
    " 'Amount': '2019',\n",
    " 'Matrixport': '2019',\n",
    " 'Carson Group': '2012',\n",
    " 'PicsArt': '2011',\n",
    " 'Mammoth Biosciences': '2017',\n",
    " 'Orchard': '2013',\n",
    " 'Stytch': '2020',\n",
    " 'Watershed': '2019'}\n",
    "\n",
    "for company,year in dic_missing_value_company.items():\n",
    "    companies.loc[companies['Company']==company,'Founded Year']=year\n",
    "    \n",
    "companies['Founded Year'] =  companies['Founded Year'].astype('int')"
   ]
  },
  {
   "cell_type": "code",
   "execution_count": 11,
   "id": "f971b4a5",
   "metadata": {
    "execution": {
     "iopub.execute_input": "2022-03-19T17:22:18.505895Z",
     "iopub.status.busy": "2022-03-19T17:22:18.503010Z",
     "iopub.status.idle": "2022-03-19T17:22:18.511169Z",
     "shell.execute_reply": "2022-03-19T17:22:18.510365Z",
     "shell.execute_reply.started": "2022-03-19T16:44:02.712367Z"
    },
    "papermill": {
     "duration": 0.061767,
     "end_time": "2022-03-19T17:22:18.511389",
     "exception": false,
     "start_time": "2022-03-19T17:22:18.449622",
     "status": "completed"
    },
    "tags": []
   },
   "outputs": [
    {
     "name": "stderr",
     "output_type": "stream",
     "text": [
      "<ipython-input-11-1cc9364496f9>:9: FutureWarning: The default value of regex will change from True to False in a future version. In addition, single character regular expressions will*not* be treated as literal strings when regex=True.\n",
      "  companies['Total Raised']=companies['Total Raised'].str.replace('$','').astype('float64')\n"
     ]
    }
   ],
   "source": [
    "#Total Raised\n",
    "companies = companies.loc[companies['Total Raised']!='None']\n",
    "\n",
    "companies['Total Raised B/M/K']=companies['Total Raised'].str.strip().str[-1]\n",
    "\n",
    "companies['Total Raised']=companies['Total Raised'].str.replace('B','')\n",
    "companies['Total Raised']=companies['Total Raised'].str.replace('M','')\n",
    "companies['Total Raised']=companies['Total Raised'].str.replace('K','')\n",
    "companies['Total Raised']=companies['Total Raised'].str.replace('$','').astype('float64')\n",
    "\n",
    "companies['Total Raised ($B)']=0\n",
    "companies['Total Raised ($B)']=np.where(companies['Total Raised B/M/K'] == 'B', companies['Total Raised'], companies['Total Raised ($B)'])\n",
    "companies['Total Raised ($B)']=np.where(companies['Total Raised B/M/K'] == 'M', companies['Total Raised']/1000, companies['Total Raised ($B)'])\n",
    "companies['Total Raised ($B)']=np.where(companies['Total Raised B/M/K'] == 'K', companies['Total Raised']/1000000, companies['Total Raised ($B)'])\n"
   ]
  },
  {
   "cell_type": "markdown",
   "id": "22eb8057",
   "metadata": {
    "papermill": {
     "duration": 0.03973,
     "end_time": "2022-03-19T17:22:18.591910",
     "exception": false,
     "start_time": "2022-03-19T17:22:18.552180",
     "status": "completed"
    },
    "tags": []
   },
   "source": [
    "This column contains value with multiple units like Million and Billion. Firstly, we exyracted the unit from the columns and saved it in new column called 'Total Raised B/M/K'. After that removed the units from the column followed by converting it to float type. \n",
    "\n",
    "Now, we need to do few more changes, as values all values in the columns were not in same unit. Using conditional approach to converted the values based on its original units."
   ]
  },
  {
   "cell_type": "code",
   "execution_count": 13,
   "id": "58a3e357",
   "metadata": {
    "execution": {
     "iopub.execute_input": "2022-03-19T17:22:18.675159Z",
     "iopub.status.busy": "2022-03-19T17:22:18.674678Z",
     "iopub.status.idle": "2022-03-19T17:22:18.679521Z",
     "shell.execute_reply": "2022-03-19T17:22:18.680014Z",
     "shell.execute_reply.started": "2022-03-19T16:44:02.743520Z"
    },
    "papermill": {
     "duration": 0.048028,
     "end_time": "2022-03-19T17:22:18.680162",
     "exception": false,
     "start_time": "2022-03-19T17:22:18.632134",
     "status": "completed"
    },
    "tags": []
   },
   "outputs": [],
   "source": [
    "#Investors Count\n",
    "companies.loc[companies['Company']=='Fair','Investors Count'] = 37"
   ]
  },
  {
   "cell_type": "markdown",
   "id": "9258565b",
   "metadata": {
    "papermill": {
     "duration": 0.038377,
     "end_time": "2022-03-19T17:22:18.759109",
     "exception": false,
     "start_time": "2022-03-19T17:22:18.720732",
     "status": "completed"
    },
    "tags": []
   },
   "source": [
    "Investors Count were missing for company named Fair. manual assignment was done. "
   ]
  },
  {
   "cell_type": "code",
   "execution_count": 14,
   "id": "0fd1e1c3",
   "metadata": {
    "execution": {
     "iopub.execute_input": "2022-03-19T17:22:18.843689Z",
     "iopub.status.busy": "2022-03-19T17:22:18.843062Z",
     "iopub.status.idle": "2022-03-19T17:22:18.847259Z",
     "shell.execute_reply": "2022-03-19T17:22:18.847747Z",
     "shell.execute_reply.started": "2022-03-19T16:44:02.752100Z"
    },
    "papermill": {
     "duration": 0.048996,
     "end_time": "2022-03-19T17:22:18.847886",
     "exception": false,
     "start_time": "2022-03-19T17:22:18.798890",
     "status": "completed"
    },
    "tags": []
   },
   "outputs": [],
   "source": [
    "#New Feature\n",
    "companies['years_to_unicorn']=companies['Year Joined']-companies['Founded Year']"
   ]
  },
  {
   "cell_type": "code",
   "execution_count": 15,
   "id": "b061f912",
   "metadata": {
    "execution": {
     "iopub.execute_input": "2022-03-19T17:22:18.938091Z",
     "iopub.status.busy": "2022-03-19T17:22:18.937596Z",
     "iopub.status.idle": "2022-03-19T17:22:18.941828Z",
     "shell.execute_reply": "2022-03-19T17:22:18.942298Z",
     "shell.execute_reply.started": "2022-03-19T16:44:02.767448Z"
    },
    "papermill": {
     "duration": 0.052788,
     "end_time": "2022-03-19T17:22:18.942444",
     "exception": false,
     "start_time": "2022-03-19T17:22:18.889656",
     "status": "completed"
    },
    "tags": []
   },
   "outputs": [],
   "source": [
    "#drop cols\n",
    "companies=companies.drop(['Date Joined','Portfolio Exits','Total Raised','Total Raised B/M/K'],axis=1)"
   ]
  },
  {
   "cell_type": "markdown",
   "id": "83b51b4b",
   "metadata": {
    "papermill": {
     "duration": 0.039047,
     "end_time": "2022-03-19T17:22:19.180210",
     "exception": false,
     "start_time": "2022-03-19T17:22:19.141163",
     "status": "completed"
    },
    "tags": []
   },
   "source": [
    "# Univaraite Analysis"
   ]
  },
  {
   "cell_type": "code",
   "execution_count": 16,
   "id": "f9aa930c",
   "metadata": {
    "execution": {
     "iopub.execute_input": "2022-03-19T17:22:19.274674Z",
     "iopub.status.busy": "2022-03-19T17:22:19.273980Z",
     "iopub.status.idle": "2022-03-19T17:22:19.567567Z",
     "shell.execute_reply": "2022-03-19T17:22:19.567069Z",
     "shell.execute_reply.started": "2022-03-19T16:44:02.812853Z"
    },
    "papermill": {
     "duration": 0.34795,
     "end_time": "2022-03-19T17:22:19.567729",
     "exception": false,
     "start_time": "2022-03-19T17:22:19.219779",
     "status": "completed"
    },
    "tags": []
   },
   "outputs": [
    {
     "data": {
      "text/plain": [
       "<AxesSubplot:xlabel='years_to_unicorn', ylabel='Count'>"
      ]
     },
     "execution_count": 16,
     "metadata": {},
     "output_type": "execute_result"
    },
    {
     "data": {
      "image/png": "[encoded data removed]",
      "text/plain": [
       "<Figure size 432x288 with 1 Axes>"
      ]
     },
     "metadata": {
      "needs_background": "light"
     },
     "output_type": "display_data"
    }
   ],
   "source": [
    "#Years_to_unicorn Distribution\n",
    "sns.histplot(companies[companies['years_to_unicorn']<30]['years_to_unicorn'])"
   ]
  },
  {
   "cell_type": "markdown",
   "id": "9ea7dcc5",
   "metadata": {
    "papermill": {
     "duration": 0.042658,
     "end_time": "2022-03-19T17:22:19.653045",
     "exception": false,
     "start_time": "2022-03-19T17:22:19.610387",
     "status": "completed"
    },
    "tags": []
   },
   "source": [
    "We can see some negative values on x axis. This needs to be corrected. "
   ]
  },
  {
   "cell_type": "code",
   "execution_count": 17,
   "id": "2ab2b616",
   "metadata": {
    "execution": {
     "iopub.execute_input": "2022-03-19T17:22:19.746541Z",
     "iopub.status.busy": "2022-03-19T17:22:19.743083Z",
     "iopub.status.idle": "2022-03-19T17:22:19.990190Z",
     "shell.execute_reply": "2022-03-19T17:22:19.990687Z",
     "shell.execute_reply.started": "2022-03-19T16:44:03.056022Z"
    },
    "papermill": {
     "duration": 0.294189,
     "end_time": "2022-03-19T17:22:19.990828",
     "exception": false,
     "start_time": "2022-03-19T17:22:19.696639",
     "status": "completed"
    },
    "tags": []
   },
   "outputs": [
    {
     "data": {
      "text/plain": [
       "<AxesSubplot:xlabel='years_to_unicorn', ylabel='Count'>"
      ]
     },
     "execution_count": 17,
     "metadata": {},
     "output_type": "execute_result"
    },
    {
     "data": {
      "image/png": "[encoded data removed]",
      "text/plain": [
       "<Figure size 432x288 with 1 Axes>"
      ]
     },
     "metadata": {
      "needs_background": "light"
     },
     "output_type": "display_data"
    }
   ],
   "source": [
    "companies[companies['years_to_unicorn']<0]\n",
    "companies.loc[companies['Company']=='Yidian Zixun','Founded Year']=2013\n",
    "companies.loc[companies['Company']=='Yidian Zixun','years_to_unicorn']=4\n",
    "sns.histplot(companies[companies['years_to_unicorn']<30]['years_to_unicorn'])"
   ]
  },
  {
   "cell_type": "markdown",
   "id": "962f601e",
   "metadata": {
    "papermill": {
     "duration": 0.041877,
     "end_time": "2022-03-19T17:22:20.075231",
     "exception": false,
     "start_time": "2022-03-19T17:22:20.033354",
     "status": "completed"
    },
    "tags": []
   },
   "source": [
    "After correcting the negative value, we have the required distribution. We have removed companies with years_to_unicorn more than 30. \n",
    "\n",
    "**Insights**\n",
    "1. Most of the companies become unicorn between 4 to 9 years. \n",
    "2. There are very few companies which takes more than 22-23 years to become unicorns"
   ]
  },
  {
   "cell_type": "code",
   "execution_count": 19,
   "id": "3619fcfe",
   "metadata": {
    "execution": {
     "iopub.execute_input": "2022-03-19T17:22:20.162579Z",
     "iopub.status.busy": "2022-03-19T17:22:20.162053Z",
     "iopub.status.idle": "2022-03-19T17:22:20.357168Z",
     "shell.execute_reply": "2022-03-19T17:22:20.357714Z",
     "shell.execute_reply.started": "2022-03-19T16:54:31.088392Z"
    },
    "papermill": {
     "duration": 0.240522,
     "end_time": "2022-03-19T17:22:20.357879",
     "exception": false,
     "start_time": "2022-03-19T17:22:20.117357",
     "status": "completed"
    },
    "tags": []
   },
   "outputs": [
    {
     "name": "stderr",
     "output_type": "stream",
     "text": [
      "C:\\Users\\hp\\anaconda3\\lib\\site-packages\\seaborn\\_decorators.py:36: FutureWarning: Pass the following variable as a keyword arg: x. From version 0.12, the only valid positional argument will be `data`, and passing other arguments without an explicit keyword will result in an error or misinterpretation.\n",
      "  warnings.warn(\n"
     ]
    },
    {
     "data": {
      "text/plain": [
       "<AxesSubplot:xlabel='Year Joined', ylabel='count'>"
      ]
     },
     "execution_count": 19,
     "metadata": {},
     "output_type": "execute_result"
    },
    {
     "data": {
      "image/png": "[encoded data removed]",
      "text/plain": [
       "<Figure size 432x288 with 1 Axes>"
      ]
     },
     "metadata": {
      "needs_background": "light"
     },
     "output_type": "display_data"
    }
   ],
   "source": [
    "#Year Joined\n",
    "sns.countplot(companies['Year Joined'])"
   ]
  },
  {
   "cell_type": "markdown",
   "id": "43ab4b6f",
   "metadata": {
    "papermill": {
     "duration": 0.065756,
     "end_time": "2022-03-19T17:22:20.490613",
     "exception": false,
     "start_time": "2022-03-19T17:22:20.424857",
     "status": "completed"
    },
    "tags": []
   },
   "source": [
    "**Insight :**\n",
    "2021 has most of the companies emerged as Unicorns. For the last three years, emergance of new unicorns were consistent. "
   ]
  },
  {
   "cell_type": "code",
   "execution_count": 20,
   "id": "3c819ab2",
   "metadata": {
    "execution": {
     "iopub.execute_input": "2022-03-19T17:22:20.627017Z",
     "iopub.status.busy": "2022-03-19T17:22:20.626219Z",
     "iopub.status.idle": "2022-03-19T17:22:20.840473Z",
     "shell.execute_reply": "2022-03-19T17:22:20.841089Z",
     "shell.execute_reply.started": "2022-03-19T16:57:37.923412Z"
    },
    "papermill": {
     "duration": 0.283868,
     "end_time": "2022-03-19T17:22:20.841245",
     "exception": false,
     "start_time": "2022-03-19T17:22:20.557377",
     "status": "completed"
    },
    "tags": []
   },
   "outputs": [
    {
     "data": {
      "text/plain": [
       "<AxesSubplot:xlabel='Valuation ($B)', ylabel='Company'>"
      ]
     },
     "execution_count": 20,
     "metadata": {},
     "output_type": "execute_result"
    },
    {
     "data": {
      "image/png": "[encoded data removed]",
      "text/plain": [
       "<Figure size 432x288 with 1 Axes>"
      ]
     },
     "metadata": {
      "needs_background": "light"
     },
     "output_type": "display_data"
    }
   ],
   "source": [
    "#Top Companies by Valuations\n",
    "temp=companies[companies['Valuation ($B)']>20]\n",
    "sns.barplot(x=temp['Valuation ($B)'],y=temp['Company'])"
   ]
  },
  {
   "cell_type": "markdown",
   "id": "004a792d",
   "metadata": {
    "papermill": {
     "duration": 0.064692,
     "end_time": "2022-03-19T17:22:20.973545",
     "exception": false,
     "start_time": "2022-03-19T17:22:20.908853",
     "status": "completed"
    },
    "tags": []
   },
   "source": [
    "**Insights :**\n",
    "* Bytedance is the most valued unicorn with the valuation of 140$ Billions.\n",
    "\n",
    "* Indian unicorn Byju makes it to the list with valuation of 20$ Billion.\n",
    "* Bytedance is followed by SpaceX and Stripe with the 2nd and 3rd highest valuations <p>"
   ]
  },
  {
   "cell_type": "markdown",
   "id": "c580949c",
   "metadata": {
    "papermill": {
     "duration": 0.064744,
     "end_time": "2022-03-19T17:22:21.104530",
     "exception": false,
     "start_time": "2022-03-19T17:22:21.039786",
     "status": "completed"
    },
    "tags": []
   },
   "source": [
    "# Multivariate Analysis"
   ]
  },
  {
   "cell_type": "markdown",
   "id": "2ca1c935",
   "metadata": {
    "papermill": {
     "duration": 0.06553,
     "end_time": "2022-03-19T17:22:21.234642",
     "exception": false,
     "start_time": "2022-03-19T17:22:21.169112",
     "status": "completed"
    },
    "tags": []
   },
   "source": [
    "**Country Analysis**"
   ]
  },
  {
   "cell_type": "code",
   "execution_count": 21,
   "id": "ca8cd60b",
   "metadata": {
    "execution": {
     "iopub.execute_input": "2022-03-19T17:22:21.387002Z",
     "iopub.status.busy": "2022-03-19T17:22:21.371632Z",
     "iopub.status.idle": "2022-03-19T17:22:21.404246Z",
     "shell.execute_reply": "2022-03-19T17:22:21.404778Z",
     "shell.execute_reply.started": "2022-03-19T16:44:03.850979Z"
    },
    "papermill": {
     "duration": 0.103311,
     "end_time": "2022-03-19T17:22:21.404941",
     "exception": false,
     "start_time": "2022-03-19T17:22:21.301630",
     "status": "completed"
    },
    "tags": []
   },
   "outputs": [
    {
     "data": {
      "text/html": [
       "<div>\n",
       "<style scoped>\n",
       "    .dataframe tbody tr th:only-of-type {\n",
       "        vertical-align: middle;\n",
       "    }\n",
       "\n",
       "    .dataframe tbody tr th {\n",
       "        vertical-align: top;\n",
       "    }\n",
       "\n",
       "    .dataframe thead tr th {\n",
       "        text-align: left;\n",
       "    }\n",
       "\n",
       "    .dataframe thead tr:last-of-type th {\n",
       "        text-align: right;\n",
       "    }\n",
       "</style>\n",
       "<table border=\"1\" class=\"dataframe\">\n",
       "  <thead>\n",
       "    <tr>\n",
       "      <th></th>\n",
       "      <th>Country</th>\n",
       "      <th colspan=\"2\" halign=\"left\">Valuation ($B)</th>\n",
       "      <th colspan=\"2\" halign=\"left\">Total Raised ($B)</th>\n",
       "      <th>years_to_unicorn</th>\n",
       "    </tr>\n",
       "    <tr>\n",
       "      <th></th>\n",
       "      <th>count</th>\n",
       "      <th>sum</th>\n",
       "      <th>mean</th>\n",
       "      <th>sum</th>\n",
       "      <th>mean</th>\n",
       "      <th>mean</th>\n",
       "    </tr>\n",
       "    <tr>\n",
       "      <th>Country</th>\n",
       "      <th></th>\n",
       "      <th></th>\n",
       "      <th></th>\n",
       "      <th></th>\n",
       "      <th></th>\n",
       "      <th></th>\n",
       "    </tr>\n",
       "  </thead>\n",
       "  <tbody>\n",
       "    <tr>\n",
       "      <th>United States</th>\n",
       "      <td>519</td>\n",
       "      <td>1794.59</td>\n",
       "      <td>3.457784</td>\n",
       "      <td>263.73280</td>\n",
       "      <td>0.508156</td>\n",
       "      <td>6.845857</td>\n",
       "    </tr>\n",
       "    <tr>\n",
       "      <th>China</th>\n",
       "      <td>164</td>\n",
       "      <td>568.47</td>\n",
       "      <td>3.466280</td>\n",
       "      <td>120.71736</td>\n",
       "      <td>0.736081</td>\n",
       "      <td>6.036585</td>\n",
       "    </tr>\n",
       "    <tr>\n",
       "      <th>India</th>\n",
       "      <td>62</td>\n",
       "      <td>179.55</td>\n",
       "      <td>2.895968</td>\n",
       "      <td>44.70899</td>\n",
       "      <td>0.721113</td>\n",
       "      <td>7.629032</td>\n",
       "    </tr>\n",
       "    <tr>\n",
       "      <th>United Kingdom</th>\n",
       "      <td>41</td>\n",
       "      <td>173.18</td>\n",
       "      <td>4.223902</td>\n",
       "      <td>29.08273</td>\n",
       "      <td>0.709335</td>\n",
       "      <td>8.073171</td>\n",
       "    </tr>\n",
       "    <tr>\n",
       "      <th>France</th>\n",
       "      <td>24</td>\n",
       "      <td>49.87</td>\n",
       "      <td>2.077917</td>\n",
       "      <td>12.72962</td>\n",
       "      <td>0.530401</td>\n",
       "      <td>7.416667</td>\n",
       "    </tr>\n",
       "    <tr>\n",
       "      <th>Germany</th>\n",
       "      <td>23</td>\n",
       "      <td>64.50</td>\n",
       "      <td>2.804348</td>\n",
       "      <td>17.81735</td>\n",
       "      <td>0.774667</td>\n",
       "      <td>9.434783</td>\n",
       "    </tr>\n",
       "    <tr>\n",
       "      <th>Israel</th>\n",
       "      <td>20</td>\n",
       "      <td>38.42</td>\n",
       "      <td>1.921000</td>\n",
       "      <td>6.57002</td>\n",
       "      <td>0.328501</td>\n",
       "      <td>7.200000</td>\n",
       "    </tr>\n",
       "    <tr>\n",
       "      <th>Canada</th>\n",
       "      <td>19</td>\n",
       "      <td>49.03</td>\n",
       "      <td>2.580526</td>\n",
       "      <td>7.27156</td>\n",
       "      <td>0.382714</td>\n",
       "      <td>10.263158</td>\n",
       "    </tr>\n",
       "    <tr>\n",
       "      <th>Brazil</th>\n",
       "      <td>16</td>\n",
       "      <td>36.98</td>\n",
       "      <td>2.311250</td>\n",
       "      <td>8.20802</td>\n",
       "      <td>0.513001</td>\n",
       "      <td>8.062500</td>\n",
       "    </tr>\n",
       "    <tr>\n",
       "      <th>South Korea</th>\n",
       "      <td>12</td>\n",
       "      <td>27.12</td>\n",
       "      <td>2.260000</td>\n",
       "      <td>5.38973</td>\n",
       "      <td>0.449144</td>\n",
       "      <td>12.000000</td>\n",
       "    </tr>\n",
       "    <tr>\n",
       "      <th>Singapore</th>\n",
       "      <td>12</td>\n",
       "      <td>17.55</td>\n",
       "      <td>1.462500</td>\n",
       "      <td>6.11302</td>\n",
       "      <td>0.509418</td>\n",
       "      <td>6.916667</td>\n",
       "    </tr>\n",
       "  </tbody>\n",
       "</table>\n",
       "</div>"
      ],
      "text/plain": [
       "               Country Valuation ($B)           Total Raised ($B)            \\\n",
       "                 count            sum      mean               sum      mean   \n",
       "Country                                                                       \n",
       "United States      519        1794.59  3.457784         263.73280  0.508156   \n",
       "China              164         568.47  3.466280         120.71736  0.736081   \n",
       "India               62         179.55  2.895968          44.70899  0.721113   \n",
       "United Kingdom      41         173.18  4.223902          29.08273  0.709335   \n",
       "France              24          49.87  2.077917          12.72962  0.530401   \n",
       "Germany             23          64.50  2.804348          17.81735  0.774667   \n",
       "Israel              20          38.42  1.921000           6.57002  0.328501   \n",
       "Canada              19          49.03  2.580526           7.27156  0.382714   \n",
       "Brazil              16          36.98  2.311250           8.20802  0.513001   \n",
       "South Korea         12          27.12  2.260000           5.38973  0.449144   \n",
       "Singapore           12          17.55  1.462500           6.11302  0.509418   \n",
       "\n",
       "               years_to_unicorn  \n",
       "                           mean  \n",
       "Country                          \n",
       "United States          6.845857  \n",
       "China                  6.036585  \n",
       "India                  7.629032  \n",
       "United Kingdom         8.073171  \n",
       "France                 7.416667  \n",
       "Germany                9.434783  \n",
       "Israel                 7.200000  \n",
       "Canada                10.263158  \n",
       "Brazil                 8.062500  \n",
       "South Korea           12.000000  \n",
       "Singapore              6.916667  "
      ]
     },
     "execution_count": 21,
     "metadata": {},
     "output_type": "execute_result"
    }
   ],
   "source": [
    "#Country Analysis\n",
    "\n",
    "temp=companies.groupby(by=['Country']).agg({'Country':['count'],'Valuation ($B)': ['sum', 'mean'],'Total Raised ($B)': ['sum', 'mean'],'years_to_unicorn':['mean']})\n",
    "temp=temp.sort_values([('Country', 'count')], ascending=False)\n",
    "temp=temp.loc[temp[('Country', 'count')]>10]\n",
    "temp"
   ]
  },
  {
   "cell_type": "markdown",
   "id": "ac42f3c3",
   "metadata": {
    "papermill": {
     "duration": 0.06937,
     "end_time": "2022-03-19T17:22:21.543230",
     "exception": false,
     "start_time": "2022-03-19T17:22:21.473860",
     "status": "completed"
    },
    "tags": []
   },
   "source": [
    "We will start with analysing unicorns in different countries. We will focus on total number of unicorns, Valuations and avg valuations,Amount raised and avg amount raised, and avg years to become unicorn.\n",
    "\n",
    "For the analysis, we have created a table as shown using groupby function. We have calculated the required values using agg functions. We are only considereing countries with more than 10 unicorns. "
   ]
  },
  {
   "cell_type": "code",
   "execution_count": 22,
   "id": "42a259e1",
   "metadata": {
    "execution": {
     "iopub.execute_input": "2022-03-19T17:22:21.683891Z",
     "iopub.status.busy": "2022-03-19T17:22:21.683216Z",
     "iopub.status.idle": "2022-03-19T17:22:21.874497Z",
     "shell.execute_reply": "2022-03-19T17:22:21.873845Z",
     "shell.execute_reply.started": "2022-03-19T16:44:03.885774Z"
    },
    "papermill": {
     "duration": 0.262311,
     "end_time": "2022-03-19T17:22:21.874649",
     "exception": false,
     "start_time": "2022-03-19T17:22:21.612338",
     "status": "completed"
    },
    "tags": []
   },
   "outputs": [
    {
     "data": {
      "text/plain": [
       "<AxesSubplot:xlabel=\"('Valuation ($B)', 'mean')\", ylabel='Country'>"
      ]
     },
     "execution_count": 22,
     "metadata": {},
     "output_type": "execute_result"
    },
    {
     "data": {
      "image/png": "[encoded data removed]",
      "text/plain": [
       "<Figure size 432x288 with 1 Axes>"
      ]
     },
     "metadata": {
      "needs_background": "light"
     },
     "output_type": "display_data"
    }
   ],
   "source": [
    "#Avg Valuations across contries\n",
    "sns.barplot(x=temp[('Valuation ($B)','mean')],y=temp.index)"
   ]
  },
  {
   "cell_type": "code",
   "execution_count": 23,
   "id": "456d691f",
   "metadata": {
    "execution": {
     "iopub.execute_input": "2022-03-19T17:22:22.020957Z",
     "iopub.status.busy": "2022-03-19T17:22:22.020259Z",
     "iopub.status.idle": "2022-03-19T17:22:22.200033Z",
     "shell.execute_reply": "2022-03-19T17:22:22.199480Z",
     "shell.execute_reply.started": "2022-03-19T16:44:04.164399Z"
    },
    "papermill": {
     "duration": 0.25578,
     "end_time": "2022-03-19T17:22:22.200168",
     "exception": false,
     "start_time": "2022-03-19T17:22:21.944388",
     "status": "completed"
    },
    "tags": []
   },
   "outputs": [
    {
     "data": {
      "text/plain": [
       "<AxesSubplot:xlabel=\"('Total Raised ($B)', 'mean')\", ylabel='Country'>"
      ]
     },
     "execution_count": 23,
     "metadata": {},
     "output_type": "execute_result"
    },
    {
     "data": {
      "image/png": "[encoded data removed]",
      "text/plain": [
       "<Figure size 432x288 with 1 Axes>"
      ]
     },
     "metadata": {
      "needs_background": "light"
     },
     "output_type": "display_data"
    }
   ],
   "source": [
    "#Avg amount raised \n",
    "sns.barplot(x=temp[('Total Raised ($B)','mean')],y=temp.index)"
   ]
  },
  {
   "cell_type": "code",
   "execution_count": 24,
   "id": "7c09a170",
   "metadata": {
    "execution": {
     "iopub.execute_input": "2022-03-19T17:22:22.346440Z",
     "iopub.status.busy": "2022-03-19T17:22:22.345835Z",
     "iopub.status.idle": "2022-03-19T17:22:22.526494Z",
     "shell.execute_reply": "2022-03-19T17:22:22.527005Z",
     "shell.execute_reply.started": "2022-03-19T16:44:04.437194Z"
    },
    "papermill": {
     "duration": 0.255138,
     "end_time": "2022-03-19T17:22:22.527170",
     "exception": false,
     "start_time": "2022-03-19T17:22:22.272032",
     "status": "completed"
    },
    "tags": []
   },
   "outputs": [
    {
     "data": {
      "text/plain": [
       "<AxesSubplot:xlabel=\"('years_to_unicorn', 'mean')\", ylabel='Country'>"
      ]
     },
     "execution_count": 24,
     "metadata": {},
     "output_type": "execute_result"
    },
    {
     "data": {
      "image/png": "[encoded data removed]",
      "text/plain": [
       "<Figure size 432x288 with 1 Axes>"
      ]
     },
     "metadata": {
      "needs_background": "light"
     },
     "output_type": "display_data"
    }
   ],
   "source": [
    "#Avg years it took to become unicorn\n",
    "sns.barplot(x=temp[('years_to_unicorn','mean')],y=temp.index)"
   ]
  },
  {
   "cell_type": "markdown",
   "id": "7ee84e3f",
   "metadata": {
    "papermill": {
     "duration": 0.072267,
     "end_time": "2022-03-19T17:22:22.673247",
     "exception": false,
     "start_time": "2022-03-19T17:22:22.600980",
     "status": "completed"
    },
    "tags": []
   },
   "source": [
    "**Insights**\n",
    "\n",
    "\n",
    "1. Germany with 0.77 Billion dollars leads in average amount raised by unicorns followed by China,India and UK.\n",
    "<p>\n",
    "2. UK is followed by China and US with almost equal mean valuations of unicorns.\n",
    "<p>\n",
    "3. Chinese companies took least time to become unicorns, around 6 years on average. \n",
    "<p>\n",
    "4. Average valutions of unciorns in the UK is highest with a value of around 4.3 $ Billions.\n",
    "<p>"
   ]
  },
  {
   "cell_type": "code",
   "execution_count": 25,
   "id": "dd0d2262",
   "metadata": {
    "execution": {
     "iopub.execute_input": "2022-03-19T17:22:22.822145Z",
     "iopub.status.busy": "2022-03-19T17:22:22.821525Z",
     "iopub.status.idle": "2022-03-19T17:22:23.439898Z",
     "shell.execute_reply": "2022-03-19T17:22:23.440268Z",
     "shell.execute_reply.started": "2022-03-19T16:44:04.698126Z"
    },
    "papermill": {
     "duration": 0.694652,
     "end_time": "2022-03-19T17:22:23.440433",
     "exception": false,
     "start_time": "2022-03-19T17:22:22.745781",
     "status": "completed"
    },
    "tags": []
   },
   "outputs": [
    {
     "data": {
      "image/png": "[encoded data removed]",
      "text/plain": [
       "<Figure size 720x360 with 1 Axes>"
      ]
     },
     "metadata": {
      "needs_background": "light"
     },
     "output_type": "display_data"
    }
   ],
   "source": [
    "#Bubble Chart\n",
    "# use the scatterplot function\n",
    "temp=temp.loc[temp[('Country', 'count')]>20]\n",
    "import matplotlib.pyplot as plt\n",
    "plt.rcParams['figure.figsize'] = [10,5]\n",
    "\n",
    "\n",
    "sns.scatterplot(data=temp, x=('Valuation ($B)','mean'), y=('years_to_unicorn','mean'),palette=\"viridis\",hue=temp.index ,legend=True,size=('Country','count'), alpha=1, sizes=(400, 5000))\n",
    "plt.legend(loc=\"upper left\", bbox_to_anchor=(1, 1))\n",
    "# show the graph\n",
    "\n",
    "\n",
    "plt.show()"
   ]
  },
  {
   "cell_type": "markdown",
   "id": "42c3c196",
   "metadata": {
    "papermill": {
     "duration": 0.049162,
     "end_time": "2022-03-19T17:22:23.538640",
     "exception": false,
     "start_time": "2022-03-19T17:22:23.489478",
     "status": "completed"
    },
    "tags": []
   },
   "source": [
    "Insights"
   ]
  },
  {
   "cell_type": "markdown",
   "id": "d1eabe67",
   "metadata": {
    "papermill": {
     "duration": 0.049511,
     "end_time": "2022-03-19T17:22:23.637300",
     "exception": false,
     "start_time": "2022-03-19T17:22:23.587789",
     "status": "completed"
    },
    "tags": []
   },
   "source": [
    "**City Analysis**"
   ]
  },
  {
   "cell_type": "code",
   "execution_count": 26,
   "id": "ff8c4a59",
   "metadata": {
    "execution": {
     "iopub.execute_input": "2022-03-19T17:22:23.742873Z",
     "iopub.status.busy": "2022-03-19T17:22:23.742140Z",
     "iopub.status.idle": "2022-03-19T17:22:23.761197Z",
     "shell.execute_reply": "2022-03-19T17:22:23.761702Z",
     "shell.execute_reply.started": "2022-03-19T16:44:05.210890Z"
    },
    "papermill": {
     "duration": 0.07582,
     "end_time": "2022-03-19T17:22:23.761838",
     "exception": false,
     "start_time": "2022-03-19T17:22:23.686018",
     "status": "completed"
    },
    "tags": []
   },
   "outputs": [
    {
     "data": {
      "text/html": [
       "<div>\n",
       "<style scoped>\n",
       "    .dataframe tbody tr th:only-of-type {\n",
       "        vertical-align: middle;\n",
       "    }\n",
       "\n",
       "    .dataframe tbody tr th {\n",
       "        vertical-align: top;\n",
       "    }\n",
       "\n",
       "    .dataframe thead tr th {\n",
       "        text-align: left;\n",
       "    }\n",
       "\n",
       "    .dataframe thead tr:last-of-type th {\n",
       "        text-align: right;\n",
       "    }\n",
       "</style>\n",
       "<table border=\"1\" class=\"dataframe\">\n",
       "  <thead>\n",
       "    <tr>\n",
       "      <th></th>\n",
       "      <th>City</th>\n",
       "      <th colspan=\"2\" halign=\"left\">Valuation ($B)</th>\n",
       "      <th colspan=\"2\" halign=\"left\">Total Raised ($B)</th>\n",
       "      <th>years_to_unicorn</th>\n",
       "    </tr>\n",
       "    <tr>\n",
       "      <th></th>\n",
       "      <th>count</th>\n",
       "      <th>sum</th>\n",
       "      <th>mean</th>\n",
       "      <th>sum</th>\n",
       "      <th>mean</th>\n",
       "      <th>mean</th>\n",
       "    </tr>\n",
       "    <tr>\n",
       "      <th>City</th>\n",
       "      <th></th>\n",
       "      <th></th>\n",
       "      <th></th>\n",
       "      <th></th>\n",
       "      <th></th>\n",
       "      <th></th>\n",
       "    </tr>\n",
       "  </thead>\n",
       "  <tbody>\n",
       "    <tr>\n",
       "      <th>San Francisco</th>\n",
       "      <td>141</td>\n",
       "      <td>654.68</td>\n",
       "      <td>4.643121</td>\n",
       "      <td>69.44553</td>\n",
       "      <td>0.492521</td>\n",
       "      <td>6.269504</td>\n",
       "    </tr>\n",
       "    <tr>\n",
       "      <th>New York</th>\n",
       "      <td>92</td>\n",
       "      <td>213.95</td>\n",
       "      <td>2.325543</td>\n",
       "      <td>36.71546</td>\n",
       "      <td>0.399081</td>\n",
       "      <td>6.500000</td>\n",
       "    </tr>\n",
       "    <tr>\n",
       "      <th>Beijing</th>\n",
       "      <td>61</td>\n",
       "      <td>299.45</td>\n",
       "      <td>4.909016</td>\n",
       "      <td>53.50398</td>\n",
       "      <td>0.877114</td>\n",
       "      <td>5.606557</td>\n",
       "    </tr>\n",
       "    <tr>\n",
       "      <th>Shanghai</th>\n",
       "      <td>42</td>\n",
       "      <td>103.29</td>\n",
       "      <td>2.459286</td>\n",
       "      <td>27.02072</td>\n",
       "      <td>0.643350</td>\n",
       "      <td>5.809524</td>\n",
       "    </tr>\n",
       "    <tr>\n",
       "      <th>London</th>\n",
       "      <td>32</td>\n",
       "      <td>155.68</td>\n",
       "      <td>4.865000</td>\n",
       "      <td>24.96123</td>\n",
       "      <td>0.780038</td>\n",
       "      <td>7.187500</td>\n",
       "    </tr>\n",
       "    <tr>\n",
       "      <th>Bengaluru</th>\n",
       "      <td>27</td>\n",
       "      <td>92.50</td>\n",
       "      <td>3.425926</td>\n",
       "      <td>22.91052</td>\n",
       "      <td>0.848538</td>\n",
       "      <td>5.074074</td>\n",
       "    </tr>\n",
       "    <tr>\n",
       "      <th>Paris</th>\n",
       "      <td>19</td>\n",
       "      <td>43.39</td>\n",
       "      <td>2.283684</td>\n",
       "      <td>10.11609</td>\n",
       "      <td>0.532426</td>\n",
       "      <td>7.105263</td>\n",
       "    </tr>\n",
       "    <tr>\n",
       "      <th>Shenzhen</th>\n",
       "      <td>18</td>\n",
       "      <td>69.15</td>\n",
       "      <td>3.841667</td>\n",
       "      <td>9.30107</td>\n",
       "      <td>0.516726</td>\n",
       "      <td>6.555556</td>\n",
       "    </tr>\n",
       "    <tr>\n",
       "      <th>Berlin</th>\n",
       "      <td>17</td>\n",
       "      <td>38.28</td>\n",
       "      <td>2.251765</td>\n",
       "      <td>13.23375</td>\n",
       "      <td>0.778456</td>\n",
       "      <td>5.294118</td>\n",
       "    </tr>\n",
       "    <tr>\n",
       "      <th>Palo Alto</th>\n",
       "      <td>16</td>\n",
       "      <td>48.67</td>\n",
       "      <td>3.041875</td>\n",
       "      <td>8.50300</td>\n",
       "      <td>0.531438</td>\n",
       "      <td>5.125000</td>\n",
       "    </tr>\n",
       "    <tr>\n",
       "      <th>Mountain View</th>\n",
       "      <td>16</td>\n",
       "      <td>37.27</td>\n",
       "      <td>2.329375</td>\n",
       "      <td>7.21275</td>\n",
       "      <td>0.450797</td>\n",
       "      <td>7.187500</td>\n",
       "    </tr>\n",
       "    <tr>\n",
       "      <th>Chicago</th>\n",
       "      <td>16</td>\n",
       "      <td>32.37</td>\n",
       "      <td>2.023125</td>\n",
       "      <td>7.16150</td>\n",
       "      <td>0.447594</td>\n",
       "      <td>9.750000</td>\n",
       "    </tr>\n",
       "    <tr>\n",
       "      <th>Boston</th>\n",
       "      <td>15</td>\n",
       "      <td>63.48</td>\n",
       "      <td>4.232000</td>\n",
       "      <td>9.46289</td>\n",
       "      <td>0.630859</td>\n",
       "      <td>9.533333</td>\n",
       "    </tr>\n",
       "    <tr>\n",
       "      <th>Hangzhou</th>\n",
       "      <td>14</td>\n",
       "      <td>26.34</td>\n",
       "      <td>1.881429</td>\n",
       "      <td>8.98059</td>\n",
       "      <td>0.641471</td>\n",
       "      <td>6.285714</td>\n",
       "    </tr>\n",
       "    <tr>\n",
       "      <th>Tel Aviv</th>\n",
       "      <td>11</td>\n",
       "      <td>25.79</td>\n",
       "      <td>2.344545</td>\n",
       "      <td>4.35137</td>\n",
       "      <td>0.395579</td>\n",
       "      <td>5.181818</td>\n",
       "    </tr>\n",
       "    <tr>\n",
       "      <th>Sao Paulo</th>\n",
       "      <td>11</td>\n",
       "      <td>27.38</td>\n",
       "      <td>2.489091</td>\n",
       "      <td>5.77709</td>\n",
       "      <td>0.525190</td>\n",
       "      <td>8.181818</td>\n",
       "    </tr>\n",
       "  </tbody>\n",
       "</table>\n",
       "</div>"
      ],
      "text/plain": [
       "               City Valuation ($B)           Total Raised ($B)            \\\n",
       "              count            sum      mean               sum      mean   \n",
       "City                                                                       \n",
       "San Francisco   141         654.68  4.643121          69.44553  0.492521   \n",
       "New York         92         213.95  2.325543          36.71546  0.399081   \n",
       "Beijing          61         299.45  4.909016          53.50398  0.877114   \n",
       "Shanghai         42         103.29  2.459286          27.02072  0.643350   \n",
       "London           32         155.68  4.865000          24.96123  0.780038   \n",
       "Bengaluru        27          92.50  3.425926          22.91052  0.848538   \n",
       "Paris            19          43.39  2.283684          10.11609  0.532426   \n",
       "Shenzhen         18          69.15  3.841667           9.30107  0.516726   \n",
       "Berlin           17          38.28  2.251765          13.23375  0.778456   \n",
       "Palo Alto        16          48.67  3.041875           8.50300  0.531438   \n",
       "Mountain View    16          37.27  2.329375           7.21275  0.450797   \n",
       "Chicago          16          32.37  2.023125           7.16150  0.447594   \n",
       "Boston           15          63.48  4.232000           9.46289  0.630859   \n",
       "Hangzhou         14          26.34  1.881429           8.98059  0.641471   \n",
       "Tel Aviv         11          25.79  2.344545           4.35137  0.395579   \n",
       "Sao Paulo        11          27.38  2.489091           5.77709  0.525190   \n",
       "\n",
       "              years_to_unicorn  \n",
       "                          mean  \n",
       "City                            \n",
       "San Francisco         6.269504  \n",
       "New York              6.500000  \n",
       "Beijing               5.606557  \n",
       "Shanghai              5.809524  \n",
       "London                7.187500  \n",
       "Bengaluru             5.074074  \n",
       "Paris                 7.105263  \n",
       "Shenzhen              6.555556  \n",
       "Berlin                5.294118  \n",
       "Palo Alto             5.125000  \n",
       "Mountain View         7.187500  \n",
       "Chicago               9.750000  \n",
       "Boston                9.533333  \n",
       "Hangzhou              6.285714  \n",
       "Tel Aviv              5.181818  \n",
       "Sao Paulo             8.181818  "
      ]
     },
     "execution_count": 26,
     "metadata": {},
     "output_type": "execute_result"
    }
   ],
   "source": [
    "#City Analysis\n",
    "\n",
    "temp=companies.groupby(by=['City']).agg({'City':['count'],'Valuation ($B)': ['sum', 'mean'],'Total Raised ($B)': ['sum', 'mean'],'years_to_unicorn':['mean']})\n",
    "temp=temp.sort_values([('City', 'count')], ascending=False)\n",
    "temp=temp.loc[temp[('City', 'count')]>10]\n",
    "temp"
   ]
  },
  {
   "cell_type": "code",
   "execution_count": 27,
   "id": "ca6f007c",
   "metadata": {
    "execution": {
     "iopub.execute_input": "2022-03-19T17:22:23.875797Z",
     "iopub.status.busy": "2022-03-19T17:22:23.870277Z",
     "iopub.status.idle": "2022-03-19T17:22:24.161798Z",
     "shell.execute_reply": "2022-03-19T17:22:24.162283Z",
     "shell.execute_reply.started": "2022-03-19T16:44:05.242566Z"
    },
    "papermill": {
     "duration": 0.351737,
     "end_time": "2022-03-19T17:22:24.162472",
     "exception": false,
     "start_time": "2022-03-19T17:22:23.810735",
     "status": "completed"
    },
    "tags": []
   },
   "outputs": [
    {
     "data": {
      "text/plain": [
       "<AxesSubplot:xlabel=\"('Valuation ($B)', 'mean')\", ylabel='City'>"
      ]
     },
     "execution_count": 27,
     "metadata": {},
     "output_type": "execute_result"
    },
    {
     "data": {
      "image/png": "[encoded data removed]",
      "text/plain": [
       "<Figure size 720x360 with 1 Axes>"
      ]
     },
     "metadata": {
      "needs_background": "light"
     },
     "output_type": "display_data"
    }
   ],
   "source": [
    "sns.barplot(x=temp[('Valuation ($B)','mean')],y=temp.index)"
   ]
  },
  {
   "cell_type": "code",
   "execution_count": 28,
   "id": "678d4d06",
   "metadata": {
    "execution": {
     "iopub.execute_input": "2022-03-19T17:22:24.320543Z",
     "iopub.status.busy": "2022-03-19T17:22:24.319898Z",
     "iopub.status.idle": "2022-03-19T17:22:24.564640Z",
     "shell.execute_reply": "2022-03-19T17:22:24.565242Z",
     "shell.execute_reply.started": "2022-03-19T16:44:05.557475Z"
    },
    "papermill": {
     "duration": 0.325921,
     "end_time": "2022-03-19T17:22:24.565430",
     "exception": false,
     "start_time": "2022-03-19T17:22:24.239509",
     "status": "completed"
    },
    "tags": []
   },
   "outputs": [
    {
     "data": {
      "text/plain": [
       "<AxesSubplot:xlabel=\"('Total Raised ($B)', 'mean')\", ylabel='City'>"
      ]
     },
     "execution_count": 28,
     "metadata": {},
     "output_type": "execute_result"
    },
    {
     "data": {
      "image/png": "[encoded data removed]",
      "text/plain": [
       "<Figure size 720x360 with 1 Axes>"
      ]
     },
     "metadata": {
      "needs_background": "light"
     },
     "output_type": "display_data"
    }
   ],
   "source": [
    "sns.barplot(x=temp[('Total Raised ($B)','mean')],y=temp.index)"
   ]
  },
  {
   "cell_type": "code",
   "execution_count": 29,
   "id": "b301fc2b",
   "metadata": {
    "execution": {
     "iopub.execute_input": "2022-03-19T17:22:24.738227Z",
     "iopub.status.busy": "2022-03-19T17:22:24.737323Z",
     "iopub.status.idle": "2022-03-19T17:22:24.955321Z",
     "shell.execute_reply": "2022-03-19T17:22:24.955912Z",
     "shell.execute_reply.started": "2022-03-19T16:44:06.070437Z"
    },
    "papermill": {
     "duration": 0.309197,
     "end_time": "2022-03-19T17:22:24.956045",
     "exception": false,
     "start_time": "2022-03-19T17:22:24.646848",
     "status": "completed"
    },
    "tags": []
   },
   "outputs": [
    {
     "data": {
      "text/plain": [
       "<AxesSubplot:xlabel=\"('years_to_unicorn', 'mean')\", ylabel='City'>"
      ]
     },
     "execution_count": 29,
     "metadata": {},
     "output_type": "execute_result"
    },
    {
     "data": {
      "image/png": "[encoded data removed]",
      "text/plain": [
       "<Figure size 720x360 with 1 Axes>"
      ]
     },
     "metadata": {
      "needs_background": "light"
     },
     "output_type": "display_data"
    }
   ],
   "source": [
    "sns.barplot(x=temp[('years_to_unicorn','mean')],y=temp.index)"
   ]
  },
  {
   "cell_type": "markdown",
   "id": "ed921d48",
   "metadata": {
    "papermill": {
     "duration": 0.051511,
     "end_time": "2022-03-19T17:22:25.060986",
     "exception": false,
     "start_time": "2022-03-19T17:22:25.009475",
     "status": "completed"
    },
    "tags": []
   },
   "source": [
    "#insights\n",
    "\n",
    "1. "
   ]
  },
  {
   "cell_type": "code",
   "execution_count": 31,
   "id": "11a1030c",
   "metadata": {
    "execution": {
     "iopub.execute_input": "2022-03-19T17:22:25.169559Z",
     "iopub.status.busy": "2022-03-19T17:22:25.168948Z",
     "iopub.status.idle": "2022-03-19T17:22:25.187989Z",
     "shell.execute_reply": "2022-03-19T17:22:25.188390Z",
     "shell.execute_reply.started": "2022-03-19T16:44:06.382264Z"
    },
    "papermill": {
     "duration": 0.077301,
     "end_time": "2022-03-19T17:22:25.188543",
     "exception": false,
     "start_time": "2022-03-19T17:22:25.111242",
     "status": "completed"
    },
    "tags": []
   },
   "outputs": [
    {
     "data": {
      "text/html": [
       "<div>\n",
       "<style scoped>\n",
       "    .dataframe tbody tr th:only-of-type {\n",
       "        vertical-align: middle;\n",
       "    }\n",
       "\n",
       "    .dataframe tbody tr th {\n",
       "        vertical-align: top;\n",
       "    }\n",
       "\n",
       "    .dataframe thead tr th {\n",
       "        text-align: left;\n",
       "    }\n",
       "\n",
       "    .dataframe thead tr:last-of-type th {\n",
       "        text-align: right;\n",
       "    }\n",
       "</style>\n",
       "<table border=\"1\" class=\"dataframe\">\n",
       "  <thead>\n",
       "    <tr>\n",
       "      <th></th>\n",
       "      <th>Industry</th>\n",
       "      <th colspan=\"2\" halign=\"left\">Valuation ($B)</th>\n",
       "      <th colspan=\"2\" halign=\"left\">Total Raised ($B)</th>\n",
       "      <th>years_to_unicorn</th>\n",
       "    </tr>\n",
       "    <tr>\n",
       "      <th></th>\n",
       "      <th>count</th>\n",
       "      <th>sum</th>\n",
       "      <th>mean</th>\n",
       "      <th>sum</th>\n",
       "      <th>mean</th>\n",
       "      <th>mean</th>\n",
       "    </tr>\n",
       "    <tr>\n",
       "      <th>Industry</th>\n",
       "      <th></th>\n",
       "      <th></th>\n",
       "      <th></th>\n",
       "      <th></th>\n",
       "      <th></th>\n",
       "      <th></th>\n",
       "    </tr>\n",
       "  </thead>\n",
       "  <tbody>\n",
       "    <tr>\n",
       "      <th>Fintech</th>\n",
       "      <td>198</td>\n",
       "      <td>771.62</td>\n",
       "      <td>3.897071</td>\n",
       "      <td>97.03350</td>\n",
       "      <td>0.490068</td>\n",
       "      <td>6.676768</td>\n",
       "    </tr>\n",
       "    <tr>\n",
       "      <th>Internet software &amp; services</th>\n",
       "      <td>189</td>\n",
       "      <td>551.83</td>\n",
       "      <td>2.919735</td>\n",
       "      <td>73.05341</td>\n",
       "      <td>0.386526</td>\n",
       "      <td>7.888889</td>\n",
       "    </tr>\n",
       "    <tr>\n",
       "      <th>E-commerce &amp; direct-to-consumer</th>\n",
       "      <td>107</td>\n",
       "      <td>325.39</td>\n",
       "      <td>3.041028</td>\n",
       "      <td>73.55071</td>\n",
       "      <td>0.687390</td>\n",
       "      <td>6.504673</td>\n",
       "    </tr>\n",
       "    <tr>\n",
       "      <th>Artificial intelligence</th>\n",
       "      <td>69</td>\n",
       "      <td>299.39</td>\n",
       "      <td>4.338986</td>\n",
       "      <td>40.88262</td>\n",
       "      <td>0.592502</td>\n",
       "      <td>6.594203</td>\n",
       "    </tr>\n",
       "    <tr>\n",
       "      <th>Health</th>\n",
       "      <td>67</td>\n",
       "      <td>176.72</td>\n",
       "      <td>2.637612</td>\n",
       "      <td>33.60411</td>\n",
       "      <td>0.501554</td>\n",
       "      <td>8.776119</td>\n",
       "    </tr>\n",
       "    <tr>\n",
       "      <th>Supply chain, logistics, &amp; delivery</th>\n",
       "      <td>55</td>\n",
       "      <td>171.76</td>\n",
       "      <td>3.122909</td>\n",
       "      <td>41.91172</td>\n",
       "      <td>0.762031</td>\n",
       "      <td>6.836364</td>\n",
       "    </tr>\n",
       "    <tr>\n",
       "      <th>Other</th>\n",
       "      <td>54</td>\n",
       "      <td>262.00</td>\n",
       "      <td>4.851852</td>\n",
       "      <td>43.66574</td>\n",
       "      <td>0.808625</td>\n",
       "      <td>8.074074</td>\n",
       "    </tr>\n",
       "    <tr>\n",
       "      <th>Cybersecurity</th>\n",
       "      <td>49</td>\n",
       "      <td>122.70</td>\n",
       "      <td>2.504082</td>\n",
       "      <td>22.35340</td>\n",
       "      <td>0.456192</td>\n",
       "      <td>6.816327</td>\n",
       "    </tr>\n",
       "    <tr>\n",
       "      <th>Data management &amp; analytics</th>\n",
       "      <td>39</td>\n",
       "      <td>131.49</td>\n",
       "      <td>3.371538</td>\n",
       "      <td>19.00160</td>\n",
       "      <td>0.487221</td>\n",
       "      <td>7.641026</td>\n",
       "    </tr>\n",
       "    <tr>\n",
       "      <th>Mobile &amp; telecommunications</th>\n",
       "      <td>35</td>\n",
       "      <td>79.52</td>\n",
       "      <td>2.272000</td>\n",
       "      <td>15.08224</td>\n",
       "      <td>0.430921</td>\n",
       "      <td>6.342857</td>\n",
       "    </tr>\n",
       "    <tr>\n",
       "      <th>Hardware</th>\n",
       "      <td>33</td>\n",
       "      <td>101.15</td>\n",
       "      <td>3.065152</td>\n",
       "      <td>25.39535</td>\n",
       "      <td>0.769556</td>\n",
       "      <td>5.909091</td>\n",
       "    </tr>\n",
       "    <tr>\n",
       "      <th>Edtech</th>\n",
       "      <td>28</td>\n",
       "      <td>90.77</td>\n",
       "      <td>3.241786</td>\n",
       "      <td>22.02012</td>\n",
       "      <td>0.786433</td>\n",
       "      <td>7.714286</td>\n",
       "    </tr>\n",
       "    <tr>\n",
       "      <th>Auto &amp; transportation</th>\n",
       "      <td>28</td>\n",
       "      <td>89.20</td>\n",
       "      <td>3.185714</td>\n",
       "      <td>34.38302</td>\n",
       "      <td>1.227965</td>\n",
       "      <td>5.142857</td>\n",
       "    </tr>\n",
       "    <tr>\n",
       "      <th>Consumer &amp; retail</th>\n",
       "      <td>24</td>\n",
       "      <td>74.13</td>\n",
       "      <td>3.088750</td>\n",
       "      <td>13.18730</td>\n",
       "      <td>0.549471</td>\n",
       "      <td>7.833333</td>\n",
       "    </tr>\n",
       "    <tr>\n",
       "      <th>Travel</th>\n",
       "      <td>14</td>\n",
       "      <td>38.60</td>\n",
       "      <td>2.757143</td>\n",
       "      <td>13.32174</td>\n",
       "      <td>0.951553</td>\n",
       "      <td>6.571429</td>\n",
       "    </tr>\n",
       "  </tbody>\n",
       "</table>\n",
       "</div>"
      ],
      "text/plain": [
       "                                    Industry Valuation ($B)            \\\n",
       "                                       count            sum      mean   \n",
       "Industry                                                                \n",
       "Fintech                                  198         771.62  3.897071   \n",
       "Internet software & services             189         551.83  2.919735   \n",
       "E-commerce & direct-to-consumer          107         325.39  3.041028   \n",
       "Artificial intelligence                   69         299.39  4.338986   \n",
       "Health                                    67         176.72  2.637612   \n",
       "Supply chain, logistics, & delivery       55         171.76  3.122909   \n",
       "Other                                     54         262.00  4.851852   \n",
       "Cybersecurity                             49         122.70  2.504082   \n",
       "Data management & analytics               39         131.49  3.371538   \n",
       "Mobile & telecommunications               35          79.52  2.272000   \n",
       "Hardware                                  33         101.15  3.065152   \n",
       "Edtech                                    28          90.77  3.241786   \n",
       "Auto & transportation                     28          89.20  3.185714   \n",
       "Consumer & retail                         24          74.13  3.088750   \n",
       "Travel                                    14          38.60  2.757143   \n",
       "\n",
       "                                    Total Raised ($B)            \\\n",
       "                                                  sum      mean   \n",
       "Industry                                                          \n",
       "Fintech                                      97.03350  0.490068   \n",
       "Internet software & services                 73.05341  0.386526   \n",
       "E-commerce & direct-to-consumer              73.55071  0.687390   \n",
       "Artificial intelligence                      40.88262  0.592502   \n",
       "Health                                       33.60411  0.501554   \n",
       "Supply chain, logistics, & delivery          41.91172  0.762031   \n",
       "Other                                        43.66574  0.808625   \n",
       "Cybersecurity                                22.35340  0.456192   \n",
       "Data management & analytics                  19.00160  0.487221   \n",
       "Mobile & telecommunications                  15.08224  0.430921   \n",
       "Hardware                                     25.39535  0.769556   \n",
       "Edtech                                       22.02012  0.786433   \n",
       "Auto & transportation                        34.38302  1.227965   \n",
       "Consumer & retail                            13.18730  0.549471   \n",
       "Travel                                       13.32174  0.951553   \n",
       "\n",
       "                                    years_to_unicorn  \n",
       "                                                mean  \n",
       "Industry                                              \n",
       "Fintech                                     6.676768  \n",
       "Internet software & services                7.888889  \n",
       "E-commerce & direct-to-consumer             6.504673  \n",
       "Artificial intelligence                     6.594203  \n",
       "Health                                      8.776119  \n",
       "Supply chain, logistics, & delivery         6.836364  \n",
       "Other                                       8.074074  \n",
       "Cybersecurity                               6.816327  \n",
       "Data management & analytics                 7.641026  \n",
       "Mobile & telecommunications                 6.342857  \n",
       "Hardware                                    5.909091  \n",
       "Edtech                                      7.714286  \n",
       "Auto & transportation                       5.142857  \n",
       "Consumer & retail                           7.833333  \n",
       "Travel                                      6.571429  "
      ]
     },
     "execution_count": 31,
     "metadata": {},
     "output_type": "execute_result"
    }
   ],
   "source": [
    "#Industry Analysis\n",
    "\n",
    "temp=companies.groupby(by=['Industry']).agg({'Industry':['count'],'Valuation ($B)': ['sum', 'mean'],'Total Raised ($B)': ['sum', 'mean'],'years_to_unicorn':['mean']})\n",
    "temp=temp.sort_values([('Industry', 'count')], ascending=False)\n",
    "temp=temp.loc[temp[('Industry', 'count')]>10]\n",
    "temp"
   ]
  },
  {
   "cell_type": "code",
   "execution_count": 32,
   "id": "e881d333",
   "metadata": {
    "execution": {
     "iopub.execute_input": "2022-03-19T17:22:25.296468Z",
     "iopub.status.busy": "2022-03-19T17:22:25.295786Z",
     "iopub.status.idle": "2022-03-19T17:22:25.534558Z",
     "shell.execute_reply": "2022-03-19T17:22:25.533451Z",
     "shell.execute_reply.started": "2022-03-19T16:44:06.413395Z"
    },
    "papermill": {
     "duration": 0.294718,
     "end_time": "2022-03-19T17:22:25.534780",
     "exception": false,
     "start_time": "2022-03-19T17:22:25.240062",
     "status": "completed"
    },
    "tags": []
   },
   "outputs": [
    {
     "data": {
      "text/plain": [
       "<AxesSubplot:xlabel=\"('Valuation ($B)', 'mean')\", ylabel='Industry'>"
      ]
     },
     "execution_count": 32,
     "metadata": {},
     "output_type": "execute_result"
    },
    {
     "data": {
      "image/png": "[encoded data removed]",
      "text/plain": [
       "<Figure size 720x360 with 1 Axes>"
      ]
     },
     "metadata": {
      "needs_background": "light"
     },
     "output_type": "display_data"
    }
   ],
   "source": [
    "sns.barplot(x=temp[('Valuation ($B)','mean')],y=temp.index)"
   ]
  },
  {
   "cell_type": "code",
   "execution_count": 33,
   "id": "c7d0f797",
   "metadata": {
    "execution": {
     "iopub.execute_input": "2022-03-19T17:22:25.710045Z",
     "iopub.status.busy": "2022-03-19T17:22:25.706760Z",
     "iopub.status.idle": "2022-03-19T17:22:25.940529Z",
     "shell.execute_reply": "2022-03-19T17:22:25.940039Z",
     "shell.execute_reply.started": "2022-03-19T16:44:06.734853Z"
    },
    "papermill": {
     "duration": 0.321144,
     "end_time": "2022-03-19T17:22:25.940665",
     "exception": false,
     "start_time": "2022-03-19T17:22:25.619521",
     "status": "completed"
    },
    "tags": []
   },
   "outputs": [
    {
     "data": {
      "text/plain": [
       "<AxesSubplot:xlabel=\"('Total Raised ($B)', 'mean')\", ylabel='Industry'>"
      ]
     },
     "execution_count": 33,
     "metadata": {},
     "output_type": "execute_result"
    },
    {
     "data": {
      "image/png": "[encoded data removed]",
      "text/plain": [
       "<Figure size 720x360 with 1 Axes>"
      ]
     },
     "metadata": {
      "needs_background": "light"
     },
     "output_type": "display_data"
    }
   ],
   "source": [
    "sns.barplot(x=temp[('Total Raised ($B)','mean')],y=temp.index)"
   ]
  },
  {
   "cell_type": "code",
   "execution_count": 34,
   "id": "188bf57c",
   "metadata": {
    "execution": {
     "iopub.execute_input": "2022-03-19T17:22:26.057576Z",
     "iopub.status.busy": "2022-03-19T17:22:26.057068Z",
     "iopub.status.idle": "2022-03-19T17:22:26.340045Z",
     "shell.execute_reply": "2022-03-19T17:22:26.339614Z",
     "shell.execute_reply.started": "2022-03-19T16:44:07.078287Z"
    },
    "papermill": {
     "duration": 0.342349,
     "end_time": "2022-03-19T17:22:26.340152",
     "exception": false,
     "start_time": "2022-03-19T17:22:25.997803",
     "status": "completed"
    },
    "tags": []
   },
   "outputs": [
    {
     "data": {
      "text/plain": [
       "<AxesSubplot:xlabel=\"('years_to_unicorn', 'mean')\", ylabel='Industry'>"
      ]
     },
     "execution_count": 34,
     "metadata": {},
     "output_type": "execute_result"
    },
    {
     "data": {
      "image/png": "[encoded data removed]",
      "text/plain": [
       "<Figure size 720x360 with 1 Axes>"
      ]
     },
     "metadata": {
      "needs_background": "light"
     },
     "output_type": "display_data"
    }
   ],
   "source": [
    "sns.barplot(x=temp[('years_to_unicorn','mean')],y=temp.index)"
   ]
  },
  {
   "cell_type": "code",
   "execution_count": 37,
   "id": "eb6bc434",
   "metadata": {},
   "outputs": [],
   "source": [
    "#Coverting the preprocessed dataframe to csv file\n",
    "\n",
    "companies.to_csv('unicorn_companies_final.csv')"
   ]
  }
 ],
 "metadata": {
  "kernelspec": {
   "display_name": "Python 3",
   "language": "python",
   "name": "python3"
  },
  "language_info": {
   "codemirror_mode": {
    "name": "ipython",
    "version": 3
   },
   "file_extension": ".py",
   "mimetype": "text/x-python",
   "name": "python",
   "nbconvert_exporter": "python",
   "pygments_lexer": "ipython3",
   "version": "3.8.8"
  },
  "papermill": {
   "default_parameters": {},
   "duration": 24.587323,
   "end_time": "2022-03-19T17:22:29.005990",
   "environment_variables": {},
   "exception": null,
   "input_path": "__notebook__.ipynb",
   "output_path": "__notebook__.ipynb",
   "parameters": {},
   "start_time": "2022-03-19T17:22:04.418667",
   "version": "2.3.3"
  }
 },
 "nbformat": 4,
 "nbformat_minor": 5
}
